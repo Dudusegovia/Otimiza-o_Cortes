{
 "cells": [
  {
   "cell_type": "code",
   "execution_count": 7,
   "metadata": {},
   "outputs": [],
   "source": [
    "from classes.class_mosaico import *\n",
    "from classes.class_tessera import *\n",
    "from classes.class_listas import *\n",
    "from program.funcoes.func_pestape import *\n",
    "from funcoes.funcoes import *\n",
    "from matriz_tesseras import *"
   ]
  },
  {
   "cell_type": "code",
   "execution_count": 8,
   "metadata": {},
   "outputs": [],
   "source": [
    "import sqlite3"
   ]
  },
  {
   "cell_type": "code",
   "execution_count": 9,
   "metadata": {},
   "outputs": [],
   "source": [
    "global max_comb\n",
    "global graus_liberdade\n",
    "global mosaicos_plotados\n",
    "mosaicos_plotados = 0"
   ]
  },
  {
   "cell_type": "code",
   "execution_count": null,
   "metadata": {},
   "outputs": [],
   "source": []
  },
  {
   "cell_type": "code",
   "execution_count": 10,
   "metadata": {},
   "outputs": [
    {
     "data": {
      "text/plain": [
       "[<classes.class_tessera.Tessera at 0x2a705275030>,\n",
       " <classes.class_tessera.Tessera at 0x2a705276230>,\n",
       " <classes.class_tessera.Tessera at 0x2a705274ac0>,\n",
       " <classes.class_tessera.Tessera at 0x2a705274b20>]"
      ]
     },
     "execution_count": 10,
     "metadata": {},
     "output_type": "execute_result"
    }
   ],
   "source": [
    "global tesseras\n",
    "tesseras = retorna_matrizes()\n",
    "tesseras"
   ]
  },
  {
   "cell_type": "code",
   "execution_count": 11,
   "metadata": {},
   "outputs": [
    {
     "data": {
      "text/plain": [
       "[<classes.class_tessera.Tessera at 0x2a72566aa10>,\n",
       " <classes.class_tessera.Tessera at 0x2a72566b190>,\n",
       " <classes.class_tessera.Tessera at 0x2a7256697e0>,\n",
       " <classes.class_tessera.Tessera at 0x2a72566b130>]"
      ]
     },
     "execution_count": 11,
     "metadata": {},
     "output_type": "execute_result"
    }
   ],
   "source": [
    "global tesseras_rotacionadas\n",
    "tesseras_rotacionadas=retorna_rotacionada()\n",
    "tesseras_rotacionadas"
   ]
  },
  {
   "cell_type": "code",
   "execution_count": 12,
   "metadata": {},
   "outputs": [
    {
     "data": {
      "text/plain": [
       "<classes.class_listas.Listas at 0x2a7256697b0>"
      ]
     },
     "execution_count": 12,
     "metadata": {},
     "output_type": "execute_result"
    }
   ],
   "source": [
    "obj_lista = Listas(tesseras, tesseras_rotacionadas)\n",
    "obj_lista\n"
   ]
  },
  {
   "cell_type": "code",
   "execution_count": 13,
   "metadata": {},
   "outputs": [],
   "source": [
    "graus_liberdade = obj_lista.conta_atributos()"
   ]
  },
  {
   "cell_type": "code",
   "execution_count": 14,
   "metadata": {},
   "outputs": [
    {
     "data": {
      "text/plain": [
       "16"
      ]
     },
     "execution_count": 14,
     "metadata": {},
     "output_type": "execute_result"
    }
   ],
   "source": [
    "max_comb = graus_liberdade**len(tesseras)\n",
    "max_comb"
   ]
  },
  {
   "cell_type": "code",
   "execution_count": 15,
   "metadata": {},
   "outputs": [],
   "source": [
    "import numpy as np"
   ]
  },
  {
   "cell_type": "code",
   "execution_count": 16,
   "metadata": {},
   "outputs": [
    {
     "data": {
      "text/plain": [
       "array([[0, 0, 0, 1, 1, 0, 0, 0, 1, 1, 0, 0],\n",
       "       [1, 1, 1, 3, 3, 1, 1, 1, 3, 3, 1, 1],\n",
       "       [1, 3, 3, 3, 3, 3, 3, 3, 3, 3, 3, 1],\n",
       "       [1, 1, 1, 3, 3, 3, 3, 3, 3, 3, 1, 1],\n",
       "       [0, 0, 0, 1, 3, 3, 3, 3, 3, 1, 0, 0],\n",
       "       [0, 0, 0, 1, 3, 3, 3, 3, 3, 1, 0, 0],\n",
       "       [0, 0, 0, 1, 3, 3, 3, 3, 3, 1, 0, 0],\n",
       "       [0, 0, 0, 1, 3, 3, 3, 3, 3, 1, 0, 0],\n",
       "       [0, 0, 0, 1, 3, 3, 3, 3, 3, 1, 0, 0],\n",
       "       [0, 0, 0, 1, 1, 1, 1, 1, 1, 1, 0, 0]])"
      ]
     },
     "execution_count": 16,
     "metadata": {},
     "output_type": "execute_result"
    }
   ],
   "source": [
    "np.array(tesseras[1].matriz1)"
   ]
  },
  {
   "cell_type": "code",
   "execution_count": 17,
   "metadata": {},
   "outputs": [
    {
     "data": {
      "text/plain": [
       "array([[0, 0, 1, 1, 1, 1, 1, 1, 1, 0, 0, 0],\n",
       "       [0, 0, 1, 3, 3, 3, 3, 3, 1, 0, 0, 0],\n",
       "       [0, 0, 1, 3, 3, 3, 3, 3, 1, 0, 0, 0],\n",
       "       [0, 0, 1, 3, 3, 3, 3, 3, 1, 0, 0, 0],\n",
       "       [0, 0, 1, 3, 3, 3, 3, 3, 1, 0, 0, 0],\n",
       "       [0, 0, 1, 3, 3, 3, 3, 3, 1, 0, 0, 0],\n",
       "       [1, 1, 3, 3, 3, 3, 3, 3, 3, 1, 1, 1],\n",
       "       [1, 3, 3, 3, 3, 3, 3, 3, 3, 3, 3, 1],\n",
       "       [1, 1, 3, 3, 1, 1, 1, 3, 3, 1, 1, 1],\n",
       "       [0, 0, 1, 1, 0, 0, 0, 1, 1, 0, 0, 0]])"
      ]
     },
     "execution_count": 17,
     "metadata": {},
     "output_type": "execute_result"
    }
   ],
   "source": [
    "np.array(tesseras_rotacionadas[1].matriz1)"
   ]
  },
  {
   "cell_type": "code",
   "execution_count": 18,
   "metadata": {},
   "outputs": [],
   "source": [
    "x=20\n",
    "y=20"
   ]
  },
  {
   "cell_type": "code",
   "execution_count": 19,
   "metadata": {},
   "outputs": [
    {
     "data": {
      "text/plain": [
       "<classes.class_mosaico.Mosaico at 0x2a72566b370>"
      ]
     },
     "execution_count": 19,
     "metadata": {},
     "output_type": "execute_result"
    }
   ],
   "source": [
    "mosaico = Mosaico(x,y).coloca_borda()\n",
    "\n",
    "\n",
    "mosaico"
   ]
  },
  {
   "cell_type": "code",
   "execution_count": 20,
   "metadata": {},
   "outputs": [],
   "source": [
    "def funcao_sql_cria_conecta(nome='primeiro'):\n",
    "    global conn\n",
    "    global cursor\n",
    "    \n",
    "    conn = sqlite3.connect(f'dados/dados_combinacoes_{nome}.db')\n",
    "    cursor = conn.cursor()\n",
    "    cria_global(connn=conn, cursorr=cursor)\n",
    "    adicionar_pro_df()\n",
    "funcao_sql_cria_conecta(\"aaaaaaa\")\n"
   ]
  },
  {
   "cell_type": "code",
   "execution_count": 21,
   "metadata": {},
   "outputs": [],
   "source": [
    "def adiciona_comb_sql(num_comb=10):\n",
    "    num_tesseras=len(tesseras)\n",
    "    for i in range(num_comb):\n",
    "        adicionar_linha(f\"{(faz_combinatoria(n=num_tesseras, graus_liberdade=graus_liberdade))}\")\n",
    "adiciona_comb_sql()\n"
   ]
  },
  {
   "cell_type": "code",
   "execution_count": null,
   "metadata": {},
   "outputs": [],
   "source": []
  },
  {
   "cell_type": "code",
   "execution_count": null,
   "metadata": {},
   "outputs": [],
   "source": []
  },
  {
   "cell_type": "code",
   "execution_count": null,
   "metadata": {},
   "outputs": [],
   "source": []
  },
  {
   "cell_type": "code",
   "execution_count": 22,
   "metadata": {},
   "outputs": [
    {
     "data": {
      "text/plain": [
       "array([[0, 0, 0, 0, 0, 0, 0, 0, 0, 0, 0, 0, 0, 0, 0, 0, 0, 0, 0, 0],\n",
       "       [0, 0, 0, 1, 1, 0, 0, 0, 1, 1, 0, 0, 0, 0, 0, 0, 0, 0, 0, 0],\n",
       "       [1, 1, 1, 3, 3, 1, 1, 1, 3, 3, 1, 1, 0, 0, 0, 0, 0, 0, 0, 0],\n",
       "       [1, 3, 3, 3, 3, 3, 3, 3, 3, 3, 3, 1, 0, 0, 0, 0, 0, 0, 0, 0],\n",
       "       [1, 1, 1, 3, 3, 3, 3, 3, 3, 3, 1, 1, 0, 0, 0, 0, 0, 0, 0, 0],\n",
       "       [0, 0, 0, 1, 3, 3, 3, 3, 3, 1, 0, 0, 0, 0, 0, 0, 0, 0, 0, 0],\n",
       "       [0, 0, 0, 1, 3, 3, 3, 3, 3, 1, 0, 0, 0, 0, 0, 0, 0, 0, 0, 0],\n",
       "       [0, 0, 0, 1, 3, 3, 3, 3, 3, 1, 0, 0, 0, 0, 0, 0, 0, 0, 0, 0],\n",
       "       [0, 0, 0, 1, 3, 3, 3, 3, 3, 1, 0, 0, 0, 0, 0, 0, 0, 0, 0, 0],\n",
       "       [0, 0, 0, 1, 3, 3, 3, 3, 3, 1, 0, 0, 0, 0, 0, 0, 0, 0, 0, 0],\n",
       "       [1, 1, 1, 2, 2, 2, 2, 2, 2, 2, 1, 1, 1, 1, 1, 1, 1, 1, 1, 1],\n",
       "       [1, 0, 0, 0, 0, 0, 0, 0, 0, 0, 0, 0, 0, 0, 0, 0, 0, 0, 0, 1],\n",
       "       [1, 0, 0, 0, 0, 0, 0, 0, 0, 0, 0, 1, 1, 0, 0, 0, 1, 1, 0, 1],\n",
       "       [1, 0, 0, 0, 0, 0, 0, 0, 1, 1, 1, 3, 3, 1, 1, 1, 3, 3, 1, 2],\n",
       "       [1, 0, 0, 0, 0, 0, 0, 0, 1, 3, 3, 3, 3, 3, 3, 3, 3, 3, 3, 2],\n",
       "       [1, 0, 0, 0, 0, 0, 0, 0, 1, 1, 1, 3, 3, 3, 3, 3, 3, 3, 1, 2],\n",
       "       [1, 0, 0, 0, 0, 0, 0, 0, 0, 0, 0, 1, 3, 3, 3, 3, 3, 1, 0, 1],\n",
       "       [1, 0, 0, 0, 0, 0, 0, 0, 0, 0, 0, 1, 3, 3, 3, 3, 3, 1, 0, 1],\n",
       "       [1, 0, 0, 0, 0, 0, 0, 0, 0, 0, 0, 1, 3, 3, 3, 3, 3, 1, 0, 1],\n",
       "       [1, 0, 0, 0, 0, 0, 0, 0, 0, 0, 0, 1, 3, 3, 3, 3, 3, 1, 0, 1],\n",
       "       [1, 0, 0, 0, 1, 1, 0, 0, 0, 1, 1, 1, 3, 3, 3, 3, 3, 1, 0, 1],\n",
       "       [1, 1, 1, 1, 3, 3, 1, 1, 1, 3, 3, 2, 2, 1, 1, 1, 1, 1, 0, 1],\n",
       "       [1, 1, 3, 3, 3, 3, 3, 3, 3, 3, 3, 3, 1, 0, 0, 0, 0, 0, 0, 1],\n",
       "       [1, 1, 1, 1, 3, 3, 3, 3, 3, 3, 3, 1, 1, 0, 0, 0, 0, 0, 0, 1],\n",
       "       [1, 0, 0, 0, 1, 3, 3, 3, 3, 3, 1, 0, 0, 0, 0, 0, 0, 0, 0, 1],\n",
       "       [1, 0, 0, 0, 1, 3, 3, 3, 3, 3, 1, 0, 0, 0, 0, 0, 0, 0, 0, 1],\n",
       "       [1, 1, 2, 3, 1, 3, 3, 3, 3, 3, 1, 0, 0, 0, 0, 0, 0, 0, 0, 1],\n",
       "       [1, 1, 2, 3, 1, 3, 3, 3, 3, 3, 1, 0, 0, 0, 0, 0, 0, 0, 0, 1],\n",
       "       [1, 3, 2, 1, 1, 3, 3, 3, 3, 3, 1, 0, 0, 0, 0, 0, 0, 0, 0, 1],\n",
       "       [1, 1, 1, 1, 2, 2, 2, 2, 2, 2, 2, 1, 1, 1, 1, 1, 1, 1, 1, 1]])"
      ]
     },
     "execution_count": 22,
     "metadata": {},
     "output_type": "execute_result"
    }
   ],
   "source": [
    "import numpy as np\n",
    "mosnovo=plota_todas(mosaico, tesseras)\n",
    "np.array(mosnovo.mosaicum)"
   ]
  },
  {
   "cell_type": "code",
   "execution_count": 27,
   "metadata": {},
   "outputs": [
    {
     "name": "stdout",
     "output_type": "stream",
     "text": [
      "linha existente\n",
      "linha existente\n",
      "linha existente\n",
      "linha existente\n",
      "linha existente\n"
     ]
    }
   ],
   "source": [
    "import json\n",
    "\n",
    "def tranforma_em_lista_tesseras(lista, tesseras, tesseras_rotacionadas):\n",
    "    comb_tesser=[]\n",
    "    for num in lista:\n",
    "        if num < 0:\n",
    "            comb_tesser.append(tesseras_rotacionadas[(num+1)*-1])\n",
    "        elif num > 0:\n",
    "            comb_tesser.append(tesseras[(num-1)])\n",
    "    return comb_tesser\n",
    "\n",
    "\n",
    "def cria_1_tessera_e_aplica_no_banco(i):\n",
    "    global mosaicos_plotados\n",
    "    if mosaicos_plotados >= max_comb:\n",
    "        print(\"acabou as combinatorias\")\n",
    "        return False\n",
    "    cursor.execute(\"\"\"SELECT * FROM dados;\"\"\")\n",
    "    \n",
    "    var1=cursor.fetchall()\n",
    "    if var1[i][1] != None:\n",
    "        print('linha existente')\n",
    "        return False\n",
    "    var = json.loads(var1[i][0])\n",
    "    \n",
    "    mosnovo=plota_todas(mosaico, tranforma_em_lista_tesseras(var, tesseras, tesseras_rotacionadas))\n",
    "    mosnovo.conta_2_e_0()\n",
    "    cursor.execute(\"\"\"UPDATE dados SET num_2 = ?, altura = ?, zeros=? WHERE sequencia = ?\"\"\", (mosnovo.dois, mosnovo.altura, mosnovo.zeros, f'{var}'))\n",
    "\n",
    "    conn.commit()\n",
    "    if mosnovo == False:\n",
    "        pass\n",
    "    else:\n",
    "        mosaicos_plotados+=1\n",
    "    return mosnovo\n",
    "for i in range(5):\n",
    "    \n",
    "    cria_1_tessera_e_aplica_no_banco(i)\n",
    "\n",
    "# def busca_dados_lista_tesseras_comb():\n",
    "#     cursor.execute(\"\"\"SELECT * FROM dados;\"\"\")\n",
    "#     a=[]\n",
    "#     for i in range(10):\n",
    "#         cursor.execute(\"\"\"SELECT * FROM dados;\"\"\")\n",
    "#         a.append(tranforma_em_lista_tesseras(json.loads(cursor.fetchall()[i][0]), tesseras, tesseras_rotacionadas))\n",
    "#     return a\n",
    "\n",
    "#busca_dados_lista_tesseras_comb()\n"
   ]
  },
  {
   "cell_type": "code",
   "execution_count": null,
   "metadata": {},
   "outputs": [],
   "source": [
    "tesseras"
   ]
  },
  {
   "cell_type": "code",
   "execution_count": null,
   "metadata": {},
   "outputs": [],
   "source": [
    "tesseras_rotacionadas"
   ]
  },
  {
   "cell_type": "code",
   "execution_count": null,
   "metadata": {},
   "outputs": [],
   "source": [
    "conn.close()"
   ]
  },
  {
   "cell_type": "code",
   "execution_count": 39,
   "metadata": {},
   "outputs": [
    {
     "name": "stdout",
     "output_type": "stream",
     "text": [
      "Maiores valores de coluna1:\n",
      "\n",
      "Menores valores de coluna2:\n",
      "\n",
      "Menores valores de c3:\n"
     ]
    },
    {
     "data": {
      "text/plain": [
       "[[[1, 2, 3, -4],\n",
       "  [1, 2, -3, 4],\n",
       "  [-1, 2, 3, -4],\n",
       "  [-1, 2, -3, 4],\n",
       "  [-1, -2, 3, -4],\n",
       "  [-1, -2, -3, -4],\n",
       "  [1, -2, -3, -4]],\n",
       " [[1, 2, 3, -4],\n",
       "  [1, 2, -3, 4],\n",
       "  [-1, 2, 3, -4],\n",
       "  [-1, 2, -3, 4],\n",
       "  [-1, -2, 3, -4],\n",
       "  [-1, -2, -3, -4],\n",
       "  [1, -2, -3, -4]],\n",
       " [[1, 2, 3, -4],\n",
       "  [1, 2, -3, 4],\n",
       "  [-1, 2, 3, -4],\n",
       "  [-1, 2, -3, 4],\n",
       "  [-1, -2, -3, -4],\n",
       "  [1, -2, -3, -4],\n",
       "  [-1, -2, 3, -4]]]"
      ]
     },
     "execution_count": 39,
     "metadata": {},
     "output_type": "execute_result"
    }
   ],
   "source": [
    "def retorna_melhores_mosaicos(num_mosaic):\n",
    "    lista_2=[]\n",
    "    lista_altura=[]\n",
    "    lista_zeros=[]\n",
    "    # Selecionar os maiores valores de uma coluna (exemplo: coluna \"coluna1\")\n",
    "    cursor.execute(\"SELECT * FROM dados WHERE num_2 IS NOT NULL ORDER BY num_2 DESC LIMIT 10\")\n",
    "    maiores_valores = cursor.fetchall()\n",
    "    print(\"Maiores valores de coluna1:\")\n",
    "    for row in maiores_valores:\n",
    "        lista_2.append(json.loads(row[0]))\n",
    "\n",
    "    # Selecionar os 10 menores valores de outra coluna (exemplo: coluna \"coluna2\")\n",
    "    cursor.execute(\"SELECT * FROM dados WHERE altura IS NOT NULL ORDER BY altura ASC LIMIT 10\")\n",
    "    menores_valores = cursor.fetchall()\n",
    "    print(\"\\nMenores valores de coluna2:\")\n",
    "    for row in menores_valores:\n",
    "        lista_altura.append(json.loads(row[0]))\n",
    "\n",
    "    cursor.execute(\"SELECT * FROM dados where zeros IS NOT NULL ORDER BY zeros ASC LIMIT 10\")\n",
    "    menores_valores = cursor.fetchall()\n",
    "    print(\"\\nMenores valores de c3:\")\n",
    "    for row in menores_valores:\n",
    "        lista_zeros.append(json.loads(row[0]))\n",
    "    return [lista_2, lista_altura, lista_zeros]\n",
    "retorna_melhores_mosaicos(10)"
   ]
  },
  {
   "cell_type": "code",
   "execution_count": 40,
   "metadata": {},
   "outputs": [
    {
     "name": "stdout",
     "output_type": "stream",
     "text": [
      "Maiores valores de coluna1:\n",
      "\n",
      "Menores valores de coluna2:\n",
      "\n",
      "Menores valores de c3:\n"
     ]
    }
   ],
   "source": [
    "a=retorna_melhores_mosaicos(10)"
   ]
  },
  {
   "cell_type": "code",
   "execution_count": 41,
   "metadata": {},
   "outputs": [
    {
     "name": "stdout",
     "output_type": "stream",
     "text": [
      "[[[1, 2, 3, -4], [1, 2, -3, 4], [-1, 2, 3, -4], [-1, 2, -3, 4], [-1, -2, 3, -4], [-1, -2, -3, -4], [1, -2, -3, -4]], [[1, 2, 3, -4], [1, 2, -3, 4], [-1, 2, 3, -4], [-1, 2, -3, 4], [-1, -2, 3, -4], [-1, -2, -3, -4], [1, -2, -3, -4]], [[1, 2, 3, -4], [1, 2, -3, 4], [-1, 2, 3, -4], [-1, 2, -3, 4], [-1, -2, -3, -4], [1, -2, -3, -4], [-1, -2, 3, -4]]]\n"
     ]
    }
   ],
   "source": [
    "print(a)"
   ]
  },
  {
   "cell_type": "code",
   "execution_count": 12,
   "metadata": {},
   "outputs": [
    {
     "data": {
      "text/plain": [
       "True"
      ]
     },
     "execution_count": 12,
     "metadata": {},
     "output_type": "execute_result"
    }
   ],
   "source": [
    "import webbrowser\n",
    "\n",
    "# Caminho corrigido\n",
    "caminho_html = r'C:\\Users\\eduar\\OneDrive\\Área de Trabalho\\Programação\\Estudo_pessoal\\modelos\\tesselarius_roupas\\public\\index.html'\n",
    "\n",
    "# Abrir no navegador padrão\n",
    "webbrowser.open(caminho_html)\n"
   ]
  },
  {
   "cell_type": "code",
   "execution_count": 11,
   "metadata": {},
   "outputs": [],
   "source": [
    "class Mosaico():\n",
    "    def __init__(self, largura, altura=1):\n",
    "        self.largura = largura\n",
    "        self.altura=altura\n",
    "        self.mosaicum = [[0] * largura for _ in range(altura)]\n",
    "        self.tamanho_maximo = 100000\n",
    "        self.zeros=0\n",
    "        self.dois=0\n",
    "        \n",
    "    def coloca_borda(self):\n",
    "        i=0\n",
    "        while i < len(self.mosaicum):\n",
    "            self.mosaicum[i][0] = 1\n",
    "            self.mosaicum[i][-1] = 1\n",
    "            i+=1\n",
    "        j=0\n",
    "        while j < len(self.mosaicum[0]):\n",
    "            self.mosaicum[-1][j] = 1\n",
    "            j+=1\n",
    "        return self\n",
    "    def conta_2_e_0(self):\n",
    "        zeros=0\n",
    "        dois=0\n",
    "        for linha in self.mosaicum:\n",
    "            for elemento in linha:\n",
    "                if elemento == 0:\n",
    "                    zeros+=1\n",
    "                elif elemento == 2:\n",
    "                    dois+=1\n",
    "        self.zeros=zeros\n",
    "        self.dois=dois"
   ]
  },
  {
   "cell_type": "code",
   "execution_count": 12,
   "metadata": {},
   "outputs": [
    {
     "data": {
      "text/plain": [
       "[[1, 0, 0, 0, 0, 0, 0, 0, 0, 1],\n",
       " [1, 0, 0, 0, 0, 0, 0, 0, 0, 1],\n",
       " [1, 0, 0, 0, 0, 0, 0, 0, 0, 1],\n",
       " [1, 0, 0, 0, 0, 0, 0, 0, 0, 1],\n",
       " [1, 0, 0, 0, 0, 0, 0, 0, 0, 1],\n",
       " [1, 0, 0, 0, 0, 0, 0, 0, 0, 1],\n",
       " [1, 0, 0, 0, 0, 0, 0, 0, 0, 1],\n",
       " [1, 0, 0, 0, 0, 0, 0, 0, 0, 1],\n",
       " [1, 0, 0, 0, 0, 0, 0, 0, 0, 1],\n",
       " [1, 1, 1, 1, 1, 1, 1, 1, 1, 1]]"
      ]
     },
     "execution_count": 12,
     "metadata": {},
     "output_type": "execute_result"
    }
   ],
   "source": [
    "Mosaico(10,10).coloca_borda().mosaicum"
   ]
  },
  {
   "cell_type": "code",
   "execution_count": 10,
   "metadata": {},
   "outputs": [
    {
     "name": "stdout",
     "output_type": "stream",
     "text": [
      "Arquivo DXF molde.dxf gerado com sucesso!\n"
     ]
    }
   ],
   "source": [
    "import ezdxf\n",
    "\n",
    "def matriz_para_dxf(matriz, nome_arquivo=\"molde.dxf\"):\n",
    "    # Cria um novo documento DXF\n",
    "    doc = ezdxf.new()\n",
    "    msp = doc.modelspace()\n",
    "\n",
    "    # Percorre a matriz e desenha retângulos (ou quadrados) para cada valor 1\n",
    "    for i, linha in enumerate(matriz):\n",
    "        for j, valor in enumerate(linha):\n",
    "            if valor == 3:  # Caso o valor seja 1 (parte do molde)\n",
    "                # Cada \"1\" na matriz é representado por um quadrado de 1mm x 1mm\n",
    "                x0 = j\n",
    "                y0 = -i  # Negativo porque o eixo Y no CAD vai para baixo\n",
    "                x1 = x0 + 1\n",
    "                y1 = y0 - 1\n",
    "\n",
    "                # Desenha um retângulo (quadrado) no arquivo DXF\n",
    "                msp.add_lwpolyline([(x0, y0), (x1, y0), (x1, y1), (x0, y1)], close=True)\n",
    "\n",
    "    # Salva o arquivo DXF gerado\n",
    "    doc.saveas(nome_arquivo)\n",
    "    print(f\"Arquivo DXF {nome_arquivo} gerado com sucesso!\")\n",
    "\n",
    "# Exemplo de matriz 5x5 (você deve substituir isso pela sua matriz real)\n",
    "matriz_exemplo = [\n",
    "    [0, 0, 1, 1, 0],\n",
    "    [0, 1, 1, 1, 0],\n",
    "    [0, 1, 1, 1, 0],\n",
    "    [0, 0, 1, 0, 0],\n",
    "    [0, 0, 0, 0, 0]\n",
    "]\n",
    "\n",
    "# Chama a função passando a matriz\n",
    "matriz_para_dxf(matriz_exemplo)\n"
   ]
  },
  {
   "cell_type": "code",
   "execution_count": null,
   "metadata": {},
   "outputs": [],
   "source": [
    "def funcao_sql_cria_conecta(nome: str = 'primeiro'):\n",
    "    global conn\n",
    "    global cursor\n",
    "\n",
    "    # Cria o diretório \"dados\" se não existir\n",
    "    diretorio = 'dados'\n",
    "    os.makedirs(diretorio, exist_ok=True)\n",
    "\n",
    "    # Define o caminho absoluto para o banco de dados\n",
    "    caminho = os.path.abspath(f'program/dados/dados_combinacoes_{nome}.db')\n",
    "\n",
    "    # Conecta ao banco de dados SQLite\n",
    "    try:\n",
    "        conn = sqlite3.connect(caminho)\n",
    "        cursor = conn.cursor()\n",
    "\n",
    "        # Chama outras funções\n",
    "        cria_global(connn=conn, cursorr=cursor)\n",
    "        adicionar_pro_df()\n",
    "        conn.commit()\n",
    "        print(f\"Banco de dados conectado em: {caminho}\")\n",
    "    except sqlite3.OperationalError as e:\n",
    "        print(f\"Erro ao conectar ao banco de dados: {e}\")\n",
    "    except Exception as e:\n",
    "        print(f\"Erro inesperado: {e}\")\n",
    "        \n",
    "    cursor.execute(\"SELECT * FROM dados WHERE num_2 IS NOT NULL ORDER BY num_2 DESC LIMIT 1\")\n",
    "    maiores_valores = cursor.fetchall()\n",
    "    print(\"Maiores valores de coluna1:\")\n",
    "    for row in maiores_valores:\n",
    "        lista_2.append(json.loads(row[0]))\n",
    "        list2.append([row[1],row[2], row[3]])"
   ]
  },
  {
   "cell_type": "code",
   "execution_count": 11,
   "metadata": {},
   "outputs": [
    {
     "name": "stdout",
     "output_type": "stream",
     "text": [
      "Imagem salva como molde_imagem.png\n"
     ]
    },
    {
     "data": {
      "image/png": "[encoded data removed]",
      "text/plain": [
       "<Figure size 640x480 with 1 Axes>"
      ]
     },
     "metadata": {},
     "output_type": "display_data"
    }
   ],
   "source": [
    "import ezdxf\n",
    "import matplotlib.pyplot as plt\n",
    "from matplotlib.backends.backend_agg import FigureCanvasAgg as FigureCanvas\n",
    "import numpy as np\n",
    "\n",
    "def dxf_para_imagem(dxf_file, imagem_output=\"molde_imagem.png\"):\n",
    "    # Carrega o arquivo DXF\n",
    "    doc = ezdxf.readfile(dxf_file)\n",
    "    msp = doc.modelspace()\n",
    "    \n",
    "    # Criar uma figura para o gráfico\n",
    "    fig, ax = plt.subplots()\n",
    "    ax.set_aspect('equal')\n",
    "\n",
    "    # Definir limites do gráfico\n",
    "    ax.set_xlim([2, 100])  # Ajuste conforme necessário\n",
    "    ax.set_ylim([2, 100])  # Ajuste conforme necessário\n",
    "    \n",
    "    # Converte as entidades do DXF (como linhas) em coordenadas\n",
    "    for entity in msp:\n",
    "        if entity.dxftype() == 'LINE':\n",
    "            x1, y1 = entity.dxf.start\n",
    "            x2, y2 = entity.dxf.end\n",
    "            ax.plot([x1, x2], [y1, y2], color='black')  # Desenha as linhas do DXF\n",
    "            \n",
    "        elif entity.dxftype() == 'LWPOLYLINE':  # Para polilinhas\n",
    "            coords = entity.get_points()\n",
    "            coords = np.array(coords)\n",
    "            ax.plot(coords[:, 0], coords[:, 1], color='black')  # Desenha as polilinhas\n",
    "    \n",
    "    # Ajuste para exibir corretamente as imagens\n",
    "    ax.set_xticks([])\n",
    "    ax.set_yticks([])\n",
    "\n",
    "    # Salva a imagem como PNG\n",
    "    canvas = FigureCanvas(fig)\n",
    "    canvas.print_figure(imagem_output, dpi=300)\n",
    "\n",
    "    print(f\"Imagem salva como {imagem_output}\")\n",
    "\n",
    "# Chama a função para gerar a imagem\n",
    "dxf_para_imagem(\"molde.dxf\", \"molde_imagem.png\")\n"
   ]
  },
  {
   "cell_type": "code",
   "execution_count": 12,
   "metadata": {},
   "outputs": [
    {
     "name": "stdout",
     "output_type": "stream",
     "text": [
      "Arquivo DXF molde.dxf gerado com sucesso!\n"
     ]
    }
   ],
   "source": [
    "import ezdxf\n",
    "\n",
    "def matriz_para_dxf(matriz, nome_arquivo=\"molde.dxf\"):\n",
    "    # Cria um novo documento DXF\n",
    "    doc = ezdxf.new()\n",
    "    msp = doc.modelspace()\n",
    "\n",
    "    # Percorre a matriz e desenha retângulos (ou quadrados) para cada valor 1\n",
    "    for i, linha in enumerate(matriz):\n",
    "        for j, valor in enumerate(linha):\n",
    "            if valor == 1:  # Caso o valor seja 1 (parte do molde)\n",
    "                # Cada \"1\" na matriz é representado por um quadrado de 1mm x 1mm\n",
    "                x0 = j\n",
    "                y0 = -i  # Negativo porque o eixo Y no CAD vai para baixo\n",
    "                x1 = x0 + 1\n",
    "                y1 = y0 - 1\n",
    "\n",
    "                # Desenha um retângulo (quadrado) no arquivo DXF\n",
    "                msp.add_lwpolyline([(x0, y0), (x1, y0), (x1, y1), (x0, y1)], close=True)\n",
    "\n",
    "    # Salva o arquivo DXF gerado\n",
    "    doc.saveas(nome_arquivo)\n",
    "    print(f\"Arquivo DXF {nome_arquivo} gerado com sucesso!\")\n",
    "\n",
    "# Exemplo de matriz 5x5 (você deve substituir isso pela sua matriz real)\n",
    "matriz_exemplo = [\n",
    "    [0, 0, 1, 1, 0],\n",
    "    [0, 1, 1, 1, 0],\n",
    "    [0, 1, 1, 1, 0],\n",
    "    [0, 0, 1, 0, 0],\n",
    "    [0, 0, 0, 0, 0]\n",
    "]\n",
    "\n",
    "# Chama a função passando a matriz\n",
    "matriz_para_dxf(matriz_exemplo)\n"
   ]
  },
  {
   "cell_type": "code",
   "execution_count": 21,
   "metadata": {},
   "outputs": [
    {
     "ename": "CompileException",
     "evalue": "C:\\Users\\eduar\\AppData\\Local\\Temp\\tmpld4o2zhm\\704ce87f66442074e332ea723c95bbce9ffae51d.cubin.cu(1): catastrophic error: cannot open source file \"cupy/complex.cuh\"\n  #include <cupy/complex.cuh>\n                             ^\n\n1 catastrophic error detected in the compilation of \"C:\\Users\\eduar\\AppData\\Local\\Temp\\tmpld4o2zhm\\704ce87f66442074e332ea723c95bbce9ffae51d.cubin.cu\".\nCompilation terminated.\n",
     "output_type": "error",
     "traceback": [
      "\u001b[1;31m---------------------------------------------------------------------------\u001b[0m",
      "\u001b[1;31mNVRTCError\u001b[0m                                Traceback (most recent call last)",
      "File \u001b[1;32mc:\\Users\\eduar\\OneDrive\\Área de Trabalho\\Programação\\Estudo_pessoal\\modelos\\tesselarius_roupas\\venv_tessera\\lib\\site-packages\\cupy\\cuda\\compiler.py:692\u001b[0m, in \u001b[0;36m_NVRTCProgram.compile\u001b[1;34m(self, options, log_stream)\u001b[0m\n\u001b[0;32m    691\u001b[0m         nvrtc\u001b[38;5;241m.\u001b[39maddNameExpression(\u001b[38;5;28mself\u001b[39m\u001b[38;5;241m.\u001b[39mptr, ker)\n\u001b[1;32m--> 692\u001b[0m \u001b[43mnvrtc\u001b[49m\u001b[38;5;241;43m.\u001b[39;49m\u001b[43mcompileProgram\u001b[49m\u001b[43m(\u001b[49m\u001b[38;5;28;43mself\u001b[39;49m\u001b[38;5;241;43m.\u001b[39;49m\u001b[43mptr\u001b[49m\u001b[43m,\u001b[49m\u001b[43m \u001b[49m\u001b[43moptions\u001b[49m\u001b[43m)\u001b[49m\n\u001b[0;32m    693\u001b[0m mapping \u001b[38;5;241m=\u001b[39m \u001b[38;5;28;01mNone\u001b[39;00m\n",
      "File \u001b[1;32mcupy_backends\\cuda\\libs\\nvrtc.pyx:125\u001b[0m, in \u001b[0;36mcupy_backends.cuda.libs.nvrtc.compileProgram\u001b[1;34m()\u001b[0m\n",
      "File \u001b[1;32mcupy_backends\\cuda\\libs\\nvrtc.pyx:138\u001b[0m, in \u001b[0;36mcupy_backends.cuda.libs.nvrtc.compileProgram\u001b[1;34m()\u001b[0m\n",
      "File \u001b[1;32mcupy_backends\\cuda\\libs\\nvrtc.pyx:53\u001b[0m, in \u001b[0;36mcupy_backends.cuda.libs.nvrtc.check_status\u001b[1;34m()\u001b[0m\n",
      "\u001b[1;31mNVRTCError\u001b[0m: NVRTC_ERROR_COMPILATION (6)",
      "\nDuring handling of the above exception, another exception occurred:\n",
      "\u001b[1;31mCompileException\u001b[0m                          Traceback (most recent call last)",
      "Cell \u001b[1;32mIn[21], line 4\u001b[0m\n\u001b[0;32m      1\u001b[0m \u001b[38;5;28;01mimport\u001b[39;00m \u001b[38;5;21;01mcupy\u001b[39;00m \u001b[38;5;28;01mas\u001b[39;00m \u001b[38;5;21;01mcp\u001b[39;00m  \u001b[38;5;66;03m# Biblioteca que utiliza GPU com CUDA\u001b[39;00m\n\u001b[0;32m      3\u001b[0m \u001b[38;5;66;03m# Criar uma matriz diretamente na GPU\u001b[39;00m\n\u001b[1;32m----> 4\u001b[0m matriz \u001b[38;5;241m=\u001b[39m \u001b[43mcp\u001b[49m\u001b[38;5;241;43m.\u001b[39;49m\u001b[43mrandom\u001b[49m\u001b[38;5;241;43m.\u001b[39;49m\u001b[43mrandint\u001b[49m\u001b[43m(\u001b[49m\u001b[38;5;241;43m0\u001b[39;49m\u001b[43m,\u001b[49m\u001b[43m \u001b[49m\u001b[38;5;241;43m2\u001b[39;49m\u001b[43m,\u001b[49m\u001b[43m \u001b[49m\u001b[43msize\u001b[49m\u001b[38;5;241;43m=\u001b[39;49m\u001b[43m(\u001b[49m\u001b[38;5;241;43m10\u001b[39;49m\u001b[43m,\u001b[49m\u001b[43m \u001b[49m\u001b[38;5;241;43m10\u001b[39;49m\u001b[43m)\u001b[49m\u001b[43m,\u001b[49m\u001b[43m \u001b[49m\u001b[43mdtype\u001b[49m\u001b[38;5;241;43m=\u001b[39;49m\u001b[43mcp\u001b[49m\u001b[38;5;241;43m.\u001b[39;49m\u001b[43mint32\u001b[49m\u001b[43m)\u001b[49m\n\u001b[0;32m      6\u001b[0m \u001b[38;5;66;03m# Contar elementos \"1\" na matriz\u001b[39;00m\n\u001b[0;32m      7\u001b[0m total_ones \u001b[38;5;241m=\u001b[39m cp\u001b[38;5;241m.\u001b[39msum(matriz \u001b[38;5;241m==\u001b[39m \u001b[38;5;241m1\u001b[39m)\n",
      "File \u001b[1;32mc:\\Users\\eduar\\OneDrive\\Área de Trabalho\\Programação\\Estudo_pessoal\\modelos\\tesselarius_roupas\\venv_tessera\\lib\\site-packages\\cupy\\random\\_sample.py:110\u001b[0m, in \u001b[0;36mrandint\u001b[1;34m(low, high, size, dtype)\u001b[0m\n\u001b[0;32m     88\u001b[0m \u001b[38;5;250m\u001b[39m\u001b[38;5;124;03m\"\"\"Returns a scalar or an array of integer values over ``[low, high)``.\u001b[39;00m\n\u001b[0;32m     89\u001b[0m \n\u001b[0;32m     90\u001b[0m \u001b[38;5;124;03mEach element of returned values are independently sampled from\u001b[39;00m\n\u001b[1;32m   (...)\u001b[0m\n\u001b[0;32m    107\u001b[0m \u001b[38;5;124;03m    Otherwise, it is the array whose shape specified by ``size``.\u001b[39;00m\n\u001b[0;32m    108\u001b[0m \u001b[38;5;124;03m\"\"\"\u001b[39;00m\n\u001b[0;32m    109\u001b[0m rs \u001b[38;5;241m=\u001b[39m _generator\u001b[38;5;241m.\u001b[39mget_random_state()\n\u001b[1;32m--> 110\u001b[0m \u001b[38;5;28;01mreturn\u001b[39;00m \u001b[43mrs\u001b[49m\u001b[38;5;241;43m.\u001b[39;49m\u001b[43mrandint\u001b[49m\u001b[43m(\u001b[49m\u001b[43mlow\u001b[49m\u001b[43m,\u001b[49m\u001b[43m \u001b[49m\u001b[43mhigh\u001b[49m\u001b[43m,\u001b[49m\u001b[43m \u001b[49m\u001b[43msize\u001b[49m\u001b[43m,\u001b[49m\u001b[43m \u001b[49m\u001b[43mdtype\u001b[49m\u001b[43m)\u001b[49m\n",
      "File \u001b[1;32mc:\\Users\\eduar\\OneDrive\\Área de Trabalho\\Programação\\Estudo_pessoal\\modelos\\tesselarius_roupas\\venv_tessera\\lib\\site-packages\\cupy\\random\\_generator.py:1261\u001b[0m, in \u001b[0;36mRandomState.randint\u001b[1;34m(self, low, high, size, dtype)\u001b[0m\n\u001b[0;32m   1256\u001b[0m     \u001b[38;5;28;01mraise\u001b[39;00m \u001b[38;5;167;01mValueError\u001b[39;00m(\n\u001b[0;32m   1257\u001b[0m         \u001b[38;5;124m'\u001b[39m\u001b[38;5;124mhigh is out of bounds for \u001b[39m\u001b[38;5;132;01m{}\u001b[39;00m\u001b[38;5;124m'\u001b[39m\u001b[38;5;241m.\u001b[39mformat(\n\u001b[0;32m   1258\u001b[0m             cupy\u001b[38;5;241m.\u001b[39mdtype(dtype)\u001b[38;5;241m.\u001b[39mname))\n\u001b[0;32m   1260\u001b[0m diff \u001b[38;5;241m=\u001b[39m hi1 \u001b[38;5;241m-\u001b[39m lo\n\u001b[1;32m-> 1261\u001b[0m x \u001b[38;5;241m=\u001b[39m \u001b[38;5;28;43mself\u001b[39;49m\u001b[38;5;241;43m.\u001b[39;49m\u001b[43m_interval\u001b[49m\u001b[43m(\u001b[49m\u001b[43mdiff\u001b[49m\u001b[43m,\u001b[49m\u001b[43m \u001b[49m\u001b[43msize\u001b[49m\u001b[43m)\u001b[49m\u001b[38;5;241m.\u001b[39mastype(dtype, copy\u001b[38;5;241m=\u001b[39m\u001b[38;5;28;01mFalse\u001b[39;00m)\n\u001b[0;32m   1262\u001b[0m cupy\u001b[38;5;241m.\u001b[39madd(x, lo, out\u001b[38;5;241m=\u001b[39mx)\n\u001b[0;32m   1263\u001b[0m \u001b[38;5;28;01mreturn\u001b[39;00m x\n",
      "File \u001b[1;32mc:\\Users\\eduar\\OneDrive\\Área de Trabalho\\Programação\\Estudo_pessoal\\modelos\\tesselarius_roupas\\venv_tessera\\lib\\site-packages\\cupy\\random\\_generator.py:726\u001b[0m, in \u001b[0;36mRandomState._interval\u001b[1;34m(self, mx, size)\u001b[0m\n\u001b[0;32m    724\u001b[0m     \u001b[38;5;28;01mif\u001b[39;00m mx1 \u001b[38;5;241m==\u001b[39m \u001b[38;5;241m1\u001b[39m \u001b[38;5;241m<<\u001b[39m (mx1\u001b[38;5;241m.\u001b[39mbit_length() \u001b[38;5;241m-\u001b[39m \u001b[38;5;241m1\u001b[39m):\n\u001b[0;32m    725\u001b[0m         mask \u001b[38;5;241m=\u001b[39m (\u001b[38;5;241m1\u001b[39m \u001b[38;5;241m<<\u001b[39m mx\u001b[38;5;241m.\u001b[39mbit_length()) \u001b[38;5;241m-\u001b[39m \u001b[38;5;241m1\u001b[39m\n\u001b[1;32m--> 726\u001b[0m         sample \u001b[38;5;241m&\u001b[39m\u001b[38;5;241m=\u001b[39m mask\n\u001b[0;32m    727\u001b[0m         \u001b[38;5;28;01mreturn\u001b[39;00m sample\u001b[38;5;241m.\u001b[39mreshape(size)\n\u001b[0;32m    729\u001b[0m \u001b[38;5;66;03m# Get index of samples that exceed the upper limit\u001b[39;00m\n",
      "File \u001b[1;32mcupy\\_core\\core.pyx:1423\u001b[0m, in \u001b[0;36mcupy._core.core._ndarray_base.__iand__\u001b[1;34m()\u001b[0m\n",
      "File \u001b[1;32mcupy\\_core\\_kernel.pyx:1375\u001b[0m, in \u001b[0;36mcupy._core._kernel.ufunc.__call__\u001b[1;34m()\u001b[0m\n",
      "File \u001b[1;32mcupy\\_core\\_kernel.pyx:1402\u001b[0m, in \u001b[0;36mcupy._core._kernel.ufunc._get_ufunc_kernel\u001b[1;34m()\u001b[0m\n",
      "File \u001b[1;32mcupy\\_core\\_kernel.pyx:1082\u001b[0m, in \u001b[0;36mcupy._core._kernel._get_ufunc_kernel\u001b[1;34m()\u001b[0m\n",
      "File \u001b[1;32mcupy\\_core\\_kernel.pyx:94\u001b[0m, in \u001b[0;36mcupy._core._kernel._get_simple_elementwise_kernel\u001b[1;34m()\u001b[0m\n",
      "File \u001b[1;32mcupy\\_core\\_kernel.pyx:82\u001b[0m, in \u001b[0;36mcupy._core._kernel._get_simple_elementwise_kernel_from_code\u001b[1;34m()\u001b[0m\n",
      "File \u001b[1;32mcupy\\_core\\core.pyx:2283\u001b[0m, in \u001b[0;36mcupy._core.core.compile_with_cache\u001b[1;34m()\u001b[0m\n",
      "File \u001b[1;32mc:\\Users\\eduar\\OneDrive\\Área de Trabalho\\Programação\\Estudo_pessoal\\modelos\\tesselarius_roupas\\venv_tessera\\lib\\site-packages\\cupy\\cuda\\compiler.py:498\u001b[0m, in \u001b[0;36m_compile_module_with_cache\u001b[1;34m(source, options, arch, cache_dir, extra_source, backend, enable_cooperative_groups, name_expressions, log_stream, jitify)\u001b[0m\n\u001b[0;32m    494\u001b[0m     \u001b[38;5;28;01mreturn\u001b[39;00m _compile_with_cache_hip(\n\u001b[0;32m    495\u001b[0m         source, options, arch, cache_dir, extra_source, backend,\n\u001b[0;32m    496\u001b[0m         name_expressions, log_stream, cache_in_memory)\n\u001b[0;32m    497\u001b[0m \u001b[38;5;28;01melse\u001b[39;00m:\n\u001b[1;32m--> 498\u001b[0m     \u001b[38;5;28;01mreturn\u001b[39;00m \u001b[43m_compile_with_cache_cuda\u001b[49m\u001b[43m(\u001b[49m\n\u001b[0;32m    499\u001b[0m \u001b[43m        \u001b[49m\u001b[43msource\u001b[49m\u001b[43m,\u001b[49m\u001b[43m \u001b[49m\u001b[43moptions\u001b[49m\u001b[43m,\u001b[49m\u001b[43m \u001b[49m\u001b[43march\u001b[49m\u001b[43m,\u001b[49m\u001b[43m \u001b[49m\u001b[43mcache_dir\u001b[49m\u001b[43m,\u001b[49m\u001b[43m \u001b[49m\u001b[43mextra_source\u001b[49m\u001b[43m,\u001b[49m\u001b[43m \u001b[49m\u001b[43mbackend\u001b[49m\u001b[43m,\u001b[49m\n\u001b[0;32m    500\u001b[0m \u001b[43m        \u001b[49m\u001b[43menable_cooperative_groups\u001b[49m\u001b[43m,\u001b[49m\u001b[43m \u001b[49m\u001b[43mname_expressions\u001b[49m\u001b[43m,\u001b[49m\u001b[43m \u001b[49m\u001b[43mlog_stream\u001b[49m\u001b[43m,\u001b[49m\n\u001b[0;32m    501\u001b[0m \u001b[43m        \u001b[49m\u001b[43mcache_in_memory\u001b[49m\u001b[43m,\u001b[49m\u001b[43m \u001b[49m\u001b[43mjitify\u001b[49m\u001b[43m)\u001b[49m\n",
      "File \u001b[1;32mc:\\Users\\eduar\\OneDrive\\Área de Trabalho\\Programação\\Estudo_pessoal\\modelos\\tesselarius_roupas\\venv_tessera\\lib\\site-packages\\cupy\\cuda\\compiler.py:577\u001b[0m, in \u001b[0;36m_compile_with_cache_cuda\u001b[1;34m(source, options, arch, cache_dir, extra_source, backend, enable_cooperative_groups, name_expressions, log_stream, cache_in_memory, jitify)\u001b[0m\n\u001b[0;32m    575\u001b[0m \u001b[38;5;28;01mif\u001b[39;00m backend \u001b[38;5;241m==\u001b[39m \u001b[38;5;124m'\u001b[39m\u001b[38;5;124mnvrtc\u001b[39m\u001b[38;5;124m'\u001b[39m:\n\u001b[0;32m    576\u001b[0m     cu_name \u001b[38;5;241m=\u001b[39m \u001b[38;5;124m'\u001b[39m\u001b[38;5;124m'\u001b[39m \u001b[38;5;28;01mif\u001b[39;00m cache_in_memory \u001b[38;5;28;01melse\u001b[39;00m name \u001b[38;5;241m+\u001b[39m \u001b[38;5;124m'\u001b[39m\u001b[38;5;124m.cu\u001b[39m\u001b[38;5;124m'\u001b[39m\n\u001b[1;32m--> 577\u001b[0m     ptx, mapping \u001b[38;5;241m=\u001b[39m \u001b[43mcompile_using_nvrtc\u001b[49m\u001b[43m(\u001b[49m\n\u001b[0;32m    578\u001b[0m \u001b[43m        \u001b[49m\u001b[43msource\u001b[49m\u001b[43m,\u001b[49m\u001b[43m \u001b[49m\u001b[43moptions\u001b[49m\u001b[43m,\u001b[49m\u001b[43m \u001b[49m\u001b[43march\u001b[49m\u001b[43m,\u001b[49m\u001b[43m \u001b[49m\u001b[43mcu_name\u001b[49m\u001b[43m,\u001b[49m\u001b[43m \u001b[49m\u001b[43mname_expressions\u001b[49m\u001b[43m,\u001b[49m\n\u001b[0;32m    579\u001b[0m \u001b[43m        \u001b[49m\u001b[43mlog_stream\u001b[49m\u001b[43m,\u001b[49m\u001b[43m \u001b[49m\u001b[43mcache_in_memory\u001b[49m\u001b[43m,\u001b[49m\u001b[43m \u001b[49m\u001b[43mjitify\u001b[49m\u001b[43m)\u001b[49m\n\u001b[0;32m    580\u001b[0m     \u001b[38;5;28;01mif\u001b[39;00m _is_cudadevrt_needed(options):\n\u001b[0;32m    581\u001b[0m         \u001b[38;5;66;03m# for separate compilation\u001b[39;00m\n\u001b[0;32m    582\u001b[0m         ls \u001b[38;5;241m=\u001b[39m function\u001b[38;5;241m.\u001b[39mLinkState()\n",
      "File \u001b[1;32mc:\\Users\\eduar\\OneDrive\\Área de Trabalho\\Programação\\Estudo_pessoal\\modelos\\tesselarius_roupas\\venv_tessera\\lib\\site-packages\\cupy\\cuda\\compiler.py:333\u001b[0m, in \u001b[0;36mcompile_using_nvrtc\u001b[1;34m(source, options, arch, filename, name_expressions, log_stream, cache_in_memory, jitify)\u001b[0m\n\u001b[0;32m    330\u001b[0m         \u001b[38;5;28;01mwith\u001b[39;00m \u001b[38;5;28mopen\u001b[39m(cu_path, \u001b[38;5;124m'\u001b[39m\u001b[38;5;124mw\u001b[39m\u001b[38;5;124m'\u001b[39m) \u001b[38;5;28;01mas\u001b[39;00m cu_file:\n\u001b[0;32m    331\u001b[0m             cu_file\u001b[38;5;241m.\u001b[39mwrite(source)\n\u001b[1;32m--> 333\u001b[0m         \u001b[38;5;28;01mreturn\u001b[39;00m \u001b[43m_compile\u001b[49m\u001b[43m(\u001b[49m\u001b[43msource\u001b[49m\u001b[43m,\u001b[49m\u001b[43m \u001b[49m\u001b[43moptions\u001b[49m\u001b[43m,\u001b[49m\u001b[43m \u001b[49m\u001b[43mcu_path\u001b[49m\u001b[43m,\u001b[49m\n\u001b[0;32m    334\u001b[0m \u001b[43m                        \u001b[49m\u001b[43mname_expressions\u001b[49m\u001b[43m,\u001b[49m\u001b[43m \u001b[49m\u001b[43mlog_stream\u001b[49m\u001b[43m,\u001b[49m\u001b[43m \u001b[49m\u001b[43mjitify\u001b[49m\u001b[43m)\u001b[49m\n\u001b[0;32m    335\u001b[0m \u001b[38;5;28;01melse\u001b[39;00m:\n\u001b[0;32m    336\u001b[0m     cu_path \u001b[38;5;241m=\u001b[39m \u001b[38;5;124m'\u001b[39m\u001b[38;5;124m'\u001b[39m \u001b[38;5;28;01mif\u001b[39;00m \u001b[38;5;129;01mnot\u001b[39;00m jitify \u001b[38;5;28;01melse\u001b[39;00m filename\n",
      "File \u001b[1;32mc:\\Users\\eduar\\OneDrive\\Área de Trabalho\\Programação\\Estudo_pessoal\\modelos\\tesselarius_roupas\\venv_tessera\\lib\\site-packages\\cupy\\cuda\\compiler.py:317\u001b[0m, in \u001b[0;36mcompile_using_nvrtc.<locals>._compile\u001b[1;34m(source, options, cu_path, name_expressions, log_stream, jitify)\u001b[0m\n\u001b[0;32m    314\u001b[0m prog \u001b[38;5;241m=\u001b[39m _NVRTCProgram(source, cu_path, headers, include_names,\n\u001b[0;32m    315\u001b[0m                      name_expressions\u001b[38;5;241m=\u001b[39mname_expressions, method\u001b[38;5;241m=\u001b[39mmethod)\n\u001b[0;32m    316\u001b[0m \u001b[38;5;28;01mtry\u001b[39;00m:\n\u001b[1;32m--> 317\u001b[0m     compiled_obj, mapping \u001b[38;5;241m=\u001b[39m \u001b[43mprog\u001b[49m\u001b[38;5;241;43m.\u001b[39;49m\u001b[43mcompile\u001b[49m\u001b[43m(\u001b[49m\u001b[43moptions\u001b[49m\u001b[43m,\u001b[49m\u001b[43m \u001b[49m\u001b[43mlog_stream\u001b[49m\u001b[43m)\u001b[49m\n\u001b[0;32m    318\u001b[0m \u001b[38;5;28;01mexcept\u001b[39;00m CompileException \u001b[38;5;28;01mas\u001b[39;00m e:\n\u001b[0;32m    319\u001b[0m     dump \u001b[38;5;241m=\u001b[39m _get_bool_env_variable(\n\u001b[0;32m    320\u001b[0m         \u001b[38;5;124m'\u001b[39m\u001b[38;5;124mCUPY_DUMP_CUDA_SOURCE_ON_ERROR\u001b[39m\u001b[38;5;124m'\u001b[39m, \u001b[38;5;28;01mFalse\u001b[39;00m)\n",
      "File \u001b[1;32mc:\\Users\\eduar\\OneDrive\\Área de Trabalho\\Programação\\Estudo_pessoal\\modelos\\tesselarius_roupas\\venv_tessera\\lib\\site-packages\\cupy\\cuda\\compiler.py:711\u001b[0m, in \u001b[0;36m_NVRTCProgram.compile\u001b[1;34m(self, options, log_stream)\u001b[0m\n\u001b[0;32m    709\u001b[0m \u001b[38;5;28;01mexcept\u001b[39;00m nvrtc\u001b[38;5;241m.\u001b[39mNVRTCError:\n\u001b[0;32m    710\u001b[0m     log \u001b[38;5;241m=\u001b[39m nvrtc\u001b[38;5;241m.\u001b[39mgetProgramLog(\u001b[38;5;28mself\u001b[39m\u001b[38;5;241m.\u001b[39mptr)\n\u001b[1;32m--> 711\u001b[0m     \u001b[38;5;28;01mraise\u001b[39;00m CompileException(log, \u001b[38;5;28mself\u001b[39m\u001b[38;5;241m.\u001b[39msrc, \u001b[38;5;28mself\u001b[39m\u001b[38;5;241m.\u001b[39mname, options,\n\u001b[0;32m    712\u001b[0m                            \u001b[38;5;124m'\u001b[39m\u001b[38;5;124mnvrtc\u001b[39m\u001b[38;5;124m'\u001b[39m \u001b[38;5;28;01mif\u001b[39;00m \u001b[38;5;129;01mnot\u001b[39;00m runtime\u001b[38;5;241m.\u001b[39mis_hip \u001b[38;5;28;01melse\u001b[39;00m \u001b[38;5;124m'\u001b[39m\u001b[38;5;124mhiprtc\u001b[39m\u001b[38;5;124m'\u001b[39m)\n",
      "\u001b[1;31mCompileException\u001b[0m: C:\\Users\\eduar\\AppData\\Local\\Temp\\tmpld4o2zhm\\704ce87f66442074e332ea723c95bbce9ffae51d.cubin.cu(1): catastrophic error: cannot open source file \"cupy/complex.cuh\"\n  #include <cupy/complex.cuh>\n                             ^\n\n1 catastrophic error detected in the compilation of \"C:\\Users\\eduar\\AppData\\Local\\Temp\\tmpld4o2zhm\\704ce87f66442074e332ea723c95bbce9ffae51d.cubin.cu\".\nCompilation terminated.\n"
     ]
    }
   ],
   "source": [
    "import cupy as cp  # Biblioteca que utiliza GPU com CUDA\n",
    "\n",
    "# Criar uma matriz diretamente na GPU\n",
    "matriz = cp.random.randint(0, 2, size=(10, 10), dtype=cp.int32)\n",
    "\n",
    "# Contar elementos \"1\" na matriz\n",
    "total_ones = cp.sum(matriz == 1)\n",
    "\n",
    "# Transferir o resultado para a CPU para exibição\n",
    "total_ones_cpu = total_ones.get()\n",
    "\n",
    "print(f\"Total de '1's na matriz: {total_ones_cpu}\")\n"
   ]
  },
  {
   "cell_type": "code",
   "execution_count": 3,
   "metadata": {},
   "outputs": [
    {
     "name": "stdout",
     "output_type": "stream",
     "text": [
      "Erro durante a compilação do kernel CUDA: C:\\Users\\eduar\\AppData\\Local\\Temp\\tmpw_hky2zi\\704ce87f66442074e332ea723c95bbce9ffae51d.cubin.cu(1): catastrophic error: cannot open source file \"cupy/complex.cuh\"\n",
      "  #include <cupy/complex.cuh>\n",
      "                             ^\n",
      "\n",
      "1 catastrophic error detected in the compilation of \"C:\\Users\\eduar\\AppData\\Local\\Temp\\tmpw_hky2zi\\704ce87f66442074e332ea723c95bbce9ffae51d.cubin.cu\".\n",
      "Compilation terminated.\n",
      "\n"
     ]
    }
   ],
   "source": [
    "import cupy as cp\n",
    "\n",
    "# Dimensões menores para teste\n",
    "chunk_size = 100\n",
    "rows, cols = 1000, 1000\n",
    "total_ones = 0\n",
    "\n",
    "try:\n",
    "    for i in range(0, rows, chunk_size):\n",
    "        sub_matriz = cp.random.randint(0, 2, size=(chunk_size, cols), dtype=cp.int32)\n",
    "        total_ones += cp.sum(sub_matriz == 1).get()\n",
    "        del sub_matriz\n",
    "        cp._default_memory_pool.free_all_blocks()\n",
    "\n",
    "    print(f\"Total de '1's na matriz: {total_ones}\")\n",
    "except cp.cuda.compiler.CompileException as e:\n",
    "    print(\"Erro durante a compilação do kernel CUDA:\", e)\n",
    "except cp.cuda.memory.OutOfMemoryError:\n",
    "    print(\"Sem memória suficiente na GPU!\")\n"
   ]
  },
  {
   "cell_type": "code",
   "execution_count": 4,
   "metadata": {},
   "outputs": [
    {
     "name": "stdout",
     "output_type": "stream",
     "text": [
      "Requirement already satisfied: numba in c:\\users\\eduar\\onedrive\\área de trabalho\\programação\\estudo_pessoal\\modelos\\tesselarius_roupas\\venv_tessera\\lib\\site-packages (0.60.0)\n",
      "Requirement already satisfied: llvmlite<0.44,>=0.43.0dev0 in c:\\users\\eduar\\onedrive\\área de trabalho\\programação\\estudo_pessoal\\modelos\\tesselarius_roupas\\venv_tessera\\lib\\site-packages (from numba) (0.43.0)\n",
      "Requirement already satisfied: numpy<2.1,>=1.22 in c:\\users\\eduar\\onedrive\\área de trabalho\\programação\\estudo_pessoal\\modelos\\tesselarius_roupas\\venv_tessera\\lib\\site-packages (from numba) (2.0.1)\n",
      "Note: you may need to restart the kernel to use updated packages.\n"
     ]
    }
   ],
   "source": [
    "pip install numba"
   ]
  },
  {
   "cell_type": "code",
   "execution_count": 14,
   "metadata": {},
   "outputs": [
    {
     "name": "stdout",
     "output_type": "stream",
     "text": [
      "Collecting cupy-cuda11x\n",
      "  Downloading cupy_cuda11x-13.3.0-cp310-cp310-win_amd64.whl.metadata (2.8 kB)\n",
      "Requirement already satisfied: numpy<2.3,>=1.22 in c:\\users\\eduar\\onedrive\\área de trabalho\\programação\\estudo_pessoal\\modelos\\tesselarius_roupas\\venv_tessera\\lib\\site-packages (from cupy-cuda11x) (2.0.1)\n",
      "Requirement already satisfied: fastrlock>=0.5 in c:\\users\\eduar\\onedrive\\área de trabalho\\programação\\estudo_pessoal\\modelos\\tesselarius_roupas\\venv_tessera\\lib\\site-packages (from cupy-cuda11x) (0.8.2)\n",
      "Downloading cupy_cuda11x-13.3.0-cp310-cp310-win_amd64.whl (76.0 MB)\n",
      "   ---------------------------------------- 0.0/76.0 MB ? eta -:--:--\n",
      "    --------------------------------------- 1.0/76.0 MB 5.6 MB/s eta 0:00:14\n",
      "   - -------------------------------------- 2.1/76.0 MB 5.3 MB/s eta 0:00:14\n",
      "   - -------------------------------------- 3.1/76.0 MB 5.8 MB/s eta 0:00:13\n",
      "   -- ------------------------------------- 4.5/76.0 MB 5.3 MB/s eta 0:00:14\n",
      "   --- ------------------------------------ 5.8/76.0 MB 5.4 MB/s eta 0:00:13\n",
      "   --- ------------------------------------ 7.3/76.0 MB 5.9 MB/s eta 0:00:12\n",
      "   ---- ----------------------------------- 9.4/76.0 MB 6.5 MB/s eta 0:00:11\n",
      "   ------ --------------------------------- 11.5/76.0 MB 6.9 MB/s eta 0:00:10\n",
      "   ------ --------------------------------- 12.6/76.0 MB 7.0 MB/s eta 0:00:10\n",
      "   ------ --------------------------------- 12.6/76.0 MB 7.0 MB/s eta 0:00:10\n",
      "   ------ --------------------------------- 12.6/76.0 MB 7.0 MB/s eta 0:00:10\n",
      "   ------- -------------------------------- 13.6/76.0 MB 5.3 MB/s eta 0:00:12\n",
      "   ------- -------------------------------- 14.7/76.0 MB 5.5 MB/s eta 0:00:12\n",
      "   ------- -------------------------------- 14.7/76.0 MB 5.5 MB/s eta 0:00:12\n",
      "   ------- -------------------------------- 14.7/76.0 MB 5.5 MB/s eta 0:00:12\n",
      "   -------- ------------------------------- 16.5/76.0 MB 4.9 MB/s eta 0:00:13\n",
      "   --------- ------------------------------ 18.4/76.0 MB 5.1 MB/s eta 0:00:12\n",
      "   ---------- ----------------------------- 20.4/76.0 MB 5.5 MB/s eta 0:00:11\n",
      "   ----------- ---------------------------- 22.3/76.0 MB 5.6 MB/s eta 0:00:10\n",
      "   ------------ --------------------------- 24.4/76.0 MB 5.8 MB/s eta 0:00:09\n",
      "   ------------- -------------------------- 26.2/76.0 MB 6.0 MB/s eta 0:00:09\n",
      "   --------------- ------------------------ 28.6/76.0 MB 6.2 MB/s eta 0:00:08\n",
      "   ---------------- ----------------------- 30.9/76.0 MB 6.5 MB/s eta 0:00:07\n",
      "   ---------------- ----------------------- 32.0/76.0 MB 6.5 MB/s eta 0:00:07\n",
      "   ------------------ --------------------- 34.9/76.0 MB 6.7 MB/s eta 0:00:07\n",
      "   ------------------- -------------------- 36.7/76.0 MB 6.8 MB/s eta 0:00:06\n",
      "   -------------------- ------------------- 38.3/76.0 MB 6.8 MB/s eta 0:00:06\n",
      "   -------------------- ------------------- 38.8/76.0 MB 6.9 MB/s eta 0:00:06\n",
      "   --------------------- ------------------ 40.1/76.0 MB 6.6 MB/s eta 0:00:06\n",
      "   ---------------------- ----------------- 42.5/76.0 MB 6.8 MB/s eta 0:00:05\n",
      "   ----------------------- ---------------- 44.8/76.0 MB 6.9 MB/s eta 0:00:05\n",
      "   ------------------------ --------------- 46.7/76.0 MB 7.0 MB/s eta 0:00:05\n",
      "   ------------------------- -------------- 48.2/76.0 MB 7.0 MB/s eta 0:00:04\n",
      "   -------------------------- ------------- 50.1/76.0 MB 7.1 MB/s eta 0:00:04\n",
      "   --------------------------- ------------ 51.6/76.0 MB 7.1 MB/s eta 0:00:04\n",
      "   ---------------------------- ----------- 53.7/76.0 MB 7.1 MB/s eta 0:00:04\n",
      "   ----------------------------- ---------- 56.1/76.0 MB 7.2 MB/s eta 0:00:03\n",
      "   ------------------------------ --------- 58.2/76.0 MB 7.3 MB/s eta 0:00:03\n",
      "   ------------------------------- -------- 60.0/76.0 MB 7.4 MB/s eta 0:00:03\n",
      "   -------------------------------- ------- 62.1/76.0 MB 7.4 MB/s eta 0:00:02\n",
      "   --------------------------------- ------ 63.7/76.0 MB 7.5 MB/s eta 0:00:02\n",
      "   ---------------------------------- ----- 66.3/76.0 MB 7.6 MB/s eta 0:00:02\n",
      "   ------------------------------------ --- 69.2/76.0 MB 7.7 MB/s eta 0:00:01\n",
      "   ------------------------------------ --- 69.2/76.0 MB 7.7 MB/s eta 0:00:01\n",
      "   ------------------------------------ --- 70.3/76.0 MB 7.6 MB/s eta 0:00:01\n",
      "   ------------------------------------- -- 71.6/76.0 MB 7.4 MB/s eta 0:00:01\n",
      "   -------------------------------------- - 73.4/76.0 MB 7.5 MB/s eta 0:00:01\n",
      "   ---------------------------------------  75.8/76.0 MB 7.6 MB/s eta 0:00:01\n",
      "   ---------------------------------------- 76.0/76.0 MB 7.5 MB/s eta 0:00:00\n",
      "Installing collected packages: cupy-cuda11x\n",
      "Note: you may need to restart the kernel to use updated packages.\n"
     ]
    },
    {
     "name": "stderr",
     "output_type": "stream",
     "text": [
      "ERROR: Could not install packages due to an OSError: [WinError 5] Acesso negado: 'c:\\\\Users\\\\eduar\\\\OneDrive\\\\Área de Trabalho\\\\Programação\\\\Estudo_pessoal\\\\modelos\\\\tesselarius_roupas\\\\venv_tessera\\\\Lib\\\\site-packages\\\\cupy\\\\_util.cp310-win_amd64.pyd'\n",
      "Check the permissions.\n",
      "\n"
     ]
    }
   ],
   "source": [
    "pip install cupy-cuda11x\n"
   ]
  },
  {
   "cell_type": "code",
   "execution_count": 15,
   "metadata": {},
   "outputs": [],
   "source": [
    "from numba import cuda, jit\n",
    "import numpy as np"
   ]
  },
  {
   "cell_type": "code",
   "execution_count": 28,
   "metadata": {},
   "outputs": [
    {
     "data": {
      "text/plain": [
       "np.float64(100000000.0)"
      ]
     },
     "execution_count": 28,
     "metadata": {},
     "output_type": "execute_result"
    }
   ],
   "source": [
    "import cupy as cd\n",
    "def soma(a):\n",
    "    for k in range(100000000):\n",
    "        a[k]+=1\n",
    "        \n",
    "a = np.ones(100000000)\n",
    "\n",
    "cd.sum(a)"
   ]
  },
  {
   "cell_type": "code",
   "execution_count": 29,
   "metadata": {},
   "outputs": [],
   "source": [
    "cp.clear_memo()"
   ]
  },
  {
   "cell_type": "code",
   "execution_count": 30,
   "metadata": {},
   "outputs": [
    {
     "ename": "NameError",
     "evalue": "name 'nvidia' is not defined",
     "output_type": "error",
     "traceback": [
      "\u001b[1;31m---------------------------------------------------------------------------\u001b[0m",
      "\u001b[1;31mNameError\u001b[0m                                 Traceback (most recent call last)",
      "Cell \u001b[1;32mIn[30], line 1\u001b[0m\n\u001b[1;32m----> 1\u001b[0m \u001b[43mnvidia\u001b[49m\u001b[38;5;241m-\u001b[39msmi\n",
      "\u001b[1;31mNameError\u001b[0m: name 'nvidia' is not defined"
     ]
    }
   ],
   "source": [
    "nvidia-smi\n"
   ]
  },
  {
   "cell_type": "code",
   "execution_count": 3,
   "metadata": {},
   "outputs": [
    {
     "data": {
      "text/plain": [
       "array([[1, 1, 1, ..., 1, 1, 1],\n",
       "       [1, 1, 1, ..., 1, 1, 1],\n",
       "       [1, 1, 1, ..., 1, 1, 1],\n",
       "       ...,\n",
       "       [1, 1, 1, ..., 1, 1, 1],\n",
       "       [1, 1, 1, ..., 1, 1, 1],\n",
       "       [1, 1, 1, ..., 1, 1, 1]])"
      ]
     },
     "execution_count": 3,
     "metadata": {},
     "output_type": "execute_result"
    }
   ],
   "source": [
    "import numpy as np\n",
    "x=100\n",
    "list = [[1 for i in range(x)] for j in range(x)]\n",
    "\n",
    "np.array(list)\n",
    "        "
   ]
  },
  {
   "cell_type": "code",
   "execution_count": 4,
   "metadata": {},
   "outputs": [],
   "source": [
    "import copy\n",
    "class Tessera:\n",
    "    def __init__(self, matriz1, area=0):\n",
    "        self.matriz1=matriz1\n",
    "        self.area=area\n",
    "        \n",
    "    def rotaciona_matriz(self):\n",
    "        matriz1=self.matriz1\n",
    "        ar=self.area\n",
    "        linhas=len(matriz1)\n",
    "        colunas=len(matriz1[0])\n",
    "        matriz2=[[0 for zero in range(colunas)] for zero in range(linhas)]\n",
    "        linha=0\n",
    "        linha_matriz1=linhas - 1\n",
    "        while linha < linhas:\n",
    "            coluna=0\n",
    "            coluna_matriz1=colunas - 1\n",
    "            while coluna < colunas:\n",
    "                matriz2[linha][coluna] = matriz1[linha_matriz1][coluna_matriz1]\n",
    "                coluna +=1\n",
    "                coluna_matriz1 -=1\n",
    "            linha +=1\n",
    "            linha_matriz1 -=1\n",
    "        return Tessera(matriz2, area=ar)\n",
    "    def cabeca_baixo_matriz(self):\n",
    "        matriz1=self.matriz1\n",
    "        linhas=len(matriz1)\n",
    "        colunas=len(matriz1[0])\n",
    "        matriz2=[[0 for zero in range(colunas)] for zero in range(linhas)]\n",
    "        linha=0\n",
    "        linha_matriz1=linhas - 1\n",
    "        while linha < linhas:\n",
    "            coluna=0\n",
    "            coluna_matriz1=colunas - 1\n",
    "            while coluna < colunas:\n",
    "                matriz2[linha][coluna] = matriz1[linha_matriz1][coluna_matriz1]\n",
    "                coluna_matriz1 = coluna_matriz1 - 1\n",
    "                coluna +=1\n",
    "            linha +=1\n",
    "            linha_matriz1 -=1\n",
    "            tessera_nova = Tessera(matriz2, area=self.area)\n",
    "        return copy.deepcopy(tessera_nova)\n",
    "    \n",
    "    def coloca_3_no_miolo_1(self):\n",
    "        matriz1=self.matriz1\n",
    "        linhas = len(matriz1) - 1\n",
    "        colunas = len(matriz1[0]) - 1\n",
    "        matriz2= copy.deepcopy(matriz1)\n",
    "        i=1\n",
    "        while i < linhas:\n",
    "            if i == linhas:\n",
    "                break\n",
    "            j=1\n",
    "            while j < colunas:\n",
    "                if  matriz1[i].count(1) > 2:\n",
    "                    if j == colunas:\n",
    "                        pass\n",
    "                    else: \n",
    "                        if (matriz1[i][j-1] == 1) and (matriz1[i][j] == 1) and (matriz1[i][j+1] == 1) and (matriz1[i-1][j] == 1) and (matriz1[i+1][j] == 1):\n",
    "                            matriz2[i][j] = 3\n",
    "                j+=1\n",
    "            i+=1\n",
    "            self.matriz1 = matriz2\n",
    "        return self\n",
    "\n",
    "    def calcula_area(self) -> None:\n",
    "        areaa=0\n",
    "        for lista in self.matriz1:\n",
    "            for num in lista:\n",
    "                if num == 3:\n",
    "                    areaa+=1\n",
    "        self.area = areaa\n",
    "        return"
   ]
  },
  {
   "cell_type": "code",
   "execution_count": 5,
   "metadata": {},
   "outputs": [],
   "source": [
    "global matriz1\n",
    "global matriz2\n",
    "x=100\n",
    "tessera1 = Tessera([[1,1,1],[1,1,1],[1,1,1]])\n",
    "mola =[[1 for i in range(x/3)] for j in range(x/2)]\n",
    "\n",
    "tessera2= Tessera(mola)\n",
    "tessera3= Tessera(mola)\n",
    "tessera4= Tessera(mola)\n",
    "\n",
    "def contar_3s(matriz):\n",
    "    # Conta a quantidade de 3s na matriz\n",
    "    return sum(row.count(3) for row in matriz)\n",
    "\n",
    "def processar_tessera(tessera_list):\n",
    "    # Contar os 3s em cada tessera e retornar uma lista ordenada do maior para o menor\n",
    "    contagem_tessera = []\n",
    "\n",
    "    # Contar os 3s e associar cada tessera com sua contagem\n",
    "    for tesserad in tessera_list:\n",
    "        quantidade_3s = contar_3s(tesserad.matriz1)\n",
    "        contagem_tessera.append((tesserad, quantidade_3s))\n",
    "\n",
    "    # Ordenar pela quantidade de 3s (do maior para o menor)\n",
    "    contagem_tessera.sort(key=lambda x: x[1], reverse=True)\n",
    "\n",
    "\n",
    "    # Retornar a lista de tessera ordenada\n",
    "    return [tesserah for tesserah, _ in contagem_tessera]\n",
    "\n",
    "\n",
    "\n",
    "def retorna_matrizes():\n",
    "    a = [tessera1.coloca_3_no_miolo_1(), tessera2.coloca_3_no_miolo_1(), tessera3.coloca_3_no_miolo_1(),tessera1.coloca_3_no_miolo_1(), tessera2.coloca_3_no_miolo_1(), tessera3.coloca_3_no_miolo_1(),tessera1.coloca_3_no_miolo_1(), tessera2.coloca_3_no_miolo_1(), tessera3.coloca_3_no_miolo_1(),tessera1.coloca_3_no_miolo_1(), tessera2.coloca_3_no_miolo_1(), tessera3.coloca_3_no_miolo_1(),tessera1.coloca_3_no_miolo_1(), tessera2.coloca_3_no_miolo_1(), tessera3.coloca_3_no_miolo_1(),tessera1.coloca_3_no_miolo_1(), tessera2.coloca_3_no_miolo_1(), tessera3.coloca_3_no_miolo_1(),tessera1.coloca_3_no_miolo_1(), tessera2.coloca_3_no_miolo_1(), tessera3.coloca_3_no_miolo_1()]\n",
    "    return processar_tessera(a)\n",
    "def retorna_rotacionada():\n",
    "    b = [tessera1.coloca_3_no_miolo_1().cabeca_baixo_matriz(), tessera2.coloca_3_no_miolo_1().cabeca_baixo_matriz(), tessera3.coloca_3_no_miolo_1().cabeca_baixo_matriz(),tessera1.coloca_3_no_miolo_1().cabeca_baixo_matriz(), tessera2.coloca_3_no_miolo_1().cabeca_baixo_matriz(), tessera3.coloca_3_no_miolo_1().cabeca_baixo_matriz(),tessera1.coloca_3_no_miolo_1().cabeca_baixo_matriz(), tessera2.coloca_3_no_miolo_1().cabeca_baixo_matriz(), tessera3.coloca_3_no_miolo_1().cabeca_baixo_matriz(),tessera1.coloca_3_no_miolo_1().cabeca_baixo_matriz(), tessera2.coloca_3_no_miolo_1().cabeca_baixo_matriz(), tessera3.coloca_3_no_miolo_1().cabeca_baixo_matriz(),tessera1.coloca_3_no_miolo_1().cabeca_baixo_matriz(), tessera2.coloca_3_no_miolo_1().cabeca_baixo_matriz(), tessera3.coloca_3_no_miolo_1().cabeca_baixo_matriz(),tessera1.coloca_3_no_miolo_1().cabeca_baixo_matriz(), tessera2.coloca_3_no_miolo_1().cabeca_baixo_matriz(), tessera3.coloca_3_no_miolo_1().cabeca_baixo_matriz(),tessera1.coloca_3_no_miolo_1().cabeca_baixo_matriz(), tessera2.coloca_3_no_miolo_1().cabeca_baixo_matriz(), tessera3.coloca_3_no_miolo_1().cabeca_baixo_matriz()]\n",
    "    return processar_tessera(b)\n",
    "\n"
   ]
  },
  {
   "cell_type": "code",
   "execution_count": 16,
   "metadata": {},
   "outputs": [
    {
     "data": {
      "text/plain": [
       "array([[1, 1, 1, ..., 1, 1, 1],\n",
       "       [1, 3, 3, ..., 3, 3, 1],\n",
       "       [1, 3, 3, ..., 3, 3, 1],\n",
       "       ...,\n",
       "       [1, 3, 3, ..., 3, 3, 1],\n",
       "       [1, 3, 3, ..., 3, 3, 1],\n",
       "       [1, 1, 1, ..., 1, 1, 1]])"
      ]
     },
     "execution_count": 16,
     "metadata": {},
     "output_type": "execute_result"
    }
   ],
   "source": [
    "import numpy as np\n",
    "np.array(retorna_matrizes()[4].matriz1)"
   ]
  },
  {
   "cell_type": "code",
   "execution_count": null,
   "metadata": {},
   "outputs": [],
   "source": []
  }
 ],
 "metadata": {
  "kernelspec": {
   "display_name": "venv_tessera",
   "language": "python",
   "name": "python3"
  },
  "language_info": {
   "codemirror_mode": {
    "name": "ipython",
    "version": 3
   },
   "file_extension": ".py",
   "mimetype": "text/x-python",
   "name": "python",
   "nbconvert_exporter": "python",
   "pygments_lexer": "ipython3",
   "version": "3.10.14"
  }
 },
 "nbformat": 4,
 "nbformat_minor": 2
}
