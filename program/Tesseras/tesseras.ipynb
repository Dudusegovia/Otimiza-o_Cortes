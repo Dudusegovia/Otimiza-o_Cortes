{
 "cells": [
  {
   "cell_type": "code",
   "execution_count": null,
   "metadata": {},
   "outputs": [],
   "source": [
    "import program.classes.class_tessera as ct\n",
    "import program.classes.class_listas as clista\n",
    "from ..classes.class_mosaico import Mosaico\n",
    "lista_tesseras=[ct.tessera([[0,1,1,1,1,1,1,1],\n",
    "                            [1,1,1,1,0,1,1,1],\n",
    "                            [0,1,1,1,1,1,1,0]]),\n",
    "                ct.tessera([[1,1,1,1,1,1,1,1],\n",
    "                            [1,1,1,1,1,1,1,1],\n",
    "                            [1,1,1,1,1,1,1,1]]),\n",
    "                ct.tessera([[0,1,1,1,0,1,1,1],\n",
    "                            [1,1,1,1,0,1,1,1],\n",
    "                            [0,1,1,1,1,1,1,0]]),\n",
    "                ct.tessera([[0,0,0,0,0,1,1,1],\n",
    "                            [1,1,1,1,0,1,1,1],\n",
    "                            [0,1,1,1,1,1,1,0]])]\n",
    "def ordena_listas(lista_tesseras) -> clista.Listas:\n",
    "    listas=[]\n",
    "    lista_rotacionda_tesseras=[]\n",
    "    lista_ordenada=[]\n",
    "    aux=ct.tessera([[]],0)\n",
    "    for tessera in lista_tesseras:\n",
    "        tessera.coloca_3_no_miolo_1()\n",
    "        tessera.calcula_area()    \n",
    "\n",
    "    for i in range(len(lista_tesseras)):\n",
    "        aux=ct.tessera([[]],0)\n",
    "        for tessera in lista_tesseras:\n",
    "            if aux.area < tessera.area:\n",
    "                aux=tessera\n",
    "        lista_tesseras.remove(aux)\n",
    "        lista_ordenada.append(aux)\n",
    "        lista_rotacionda_tesseras.append(aux.cabeca_baixo_matriz())\n",
    "    listas= [lista_ordenada, lista_rotacionda_tesseras]\n",
    "    obj_listas = clista.Listas(*listas)\n",
    "    return obj_listas\n",
    "    \n",
    "    \n",
    "\n"
   ]
  },
  {
   "cell_type": "markdown",
   "metadata": {},
   "source": [
    "combinatoria"
   ]
  },
  {
   "cell_type": "code",
   "execution_count": null,
   "metadata": {},
   "outputs": [],
   "source": [
    "obj_listass = ordena_listas(lista_tesseras)\n",
    "print(len(obj_listass.lista_0))\n",
    "obj_listass.conta_atributos()"
   ]
  },
  {
   "cell_type": "code",
   "execution_count": null,
   "metadata": {},
   "outputs": [],
   "source": [
    "listas_comb = []\n",
    "qtd_combinacoes=(obj_listass.conta_atributos())**len(obj_listass.lista_0)\n",
    "qtd_combinacoes\n"
   ]
  },
  {
   "cell_type": "code",
   "execution_count": null,
   "metadata": {},
   "outputs": [],
   "source": [
    "import random\n",
    "import pandas as pd\n",
    "import sqlite3\n",
    "\n",
    "conn = sqlite3.connect('../dados/dados_combinacoes.db')\n",
    "cursor = conn.cursor()\n",
    "\n",
    "def adicionar_pro_df():\n",
    "\n",
    "    cursor.execute('''CREATE TABLE IF NOT EXISTS dados (\n",
    "                            sequencia TEXT,\n",
    "                            num_2 INTEGER,\n",
    "                            altura INTEGER,\n",
    "                            zeros INTEGER)''')\n",
    "    return conn, cursor\n",
    "\n",
    "def adicionar_linha(sequencia=None, num_2=None, altura=None, zeros=None):\n",
    "    # Verificar se a linha já existe\n",
    "    cursor.execute(\"SELECT * FROM dados WHERE sequencia = ?\", (sequencia,))\n",
    "    linha_existente = cursor.fetchone()\n",
    "    \n",
    "    if linha_existente is None:\n",
    "        # Se não existir, adiciona a linha\n",
    "        cursor.execute(\"INSERT INTO dados (sequencia, num_2, altura, zeros) VALUES (?, ?, ?, ?)\", (sequencia, num_2, altura, zeros))\n",
    "        conn.commit()  # Confirma a transação\n",
    "        return True\n",
    "    else:\n",
    "        return False\n",
    "\n",
    "\n",
    "    \n",
    "def faz_combinatoria(n: int, graus_liberdade: int) -> list:\n",
    "    comb=[]\n",
    "    list1 = [j for j in range(1,n+1)]\n",
    "    list2 = [-k for k in range(1,n+1)]\n",
    "    i=0\n",
    "    while i < n:\n",
    "        rand = random.randint(0, graus_liberdade-1)\n",
    "        if rand == 0:\n",
    "            comb.append(list1[i])\n",
    "        else: \n",
    "            comb.append(list2[i])\n",
    "        i+=1\n",
    "    return comb\n",
    "adicionar_pro_df()\n",
    "adicionar_linha(sequencia=str(faz_combinatoria(n=len(obj_listass.retorna_atributos()[0]), graus_liberdade=2)))\n",
    "faz_combinatoria(n=len(obj_listass.retorna_atributos()[0]), graus_liberdade=2)\n",
    "\n",
    "#\n",
    "# def faz_combinatoAria(obj_listass:clista.Listas):\n",
    "#     comb=[]\n",
    "\n",
    "#     graus_liberdade=obj_listass.conta_atributos()\n",
    "#     atributos = obj_listass.retorna_atributos()\n",
    "#     i=0\n",
    "#     num_elementos=len(obj_listass.lista_0)\n",
    "#     i_atr=0\n",
    "#     while i < num_elementos:\n",
    "#         rand = random.randint(0,graus_liberdade-1)\n",
    "#         for j in range(graus_liberdade):\n",
    "#             if rand == j:\n",
    "#                 comb.append(atributos[j][i])\n",
    "#         i+=1\n",
    "#     adicionar_linha(sequencia=str(comb))"
   ]
  },
  {
   "cell_type": "code",
   "execution_count": null,
   "metadata": {},
   "outputs": [],
   "source": []
  },
  {
   "cell_type": "code",
   "execution_count": 10,
   "metadata": {},
   "outputs": [],
   "source": [
    "# mo=Mosaico(12,12).coloca_borda()\n",
    "# tesse=ct.tessera([[1,1,1,1,1,1,1],\n",
    "#        [1,1,1,1,1,1,1]])\n",
    "# import copy as cp\n",
    "# def plota_tessera(mosaico:Mosaico, tesser:ct.tessera, i_m=-1, j=0) -> Mosaico:\n",
    "#     aux2 = cp.copy(mosaico)\n",
    "#     aux=aux2.mosaicum\n",
    "#     tesseraa = tesser.matriz1\n",
    "\n",
    "#     for linha in reversed(tesseraa):\n",
    "#         j_m=0 + j\n",
    "#         for elemento in linha:\n",
    "#             aux[i_m][j_m]+=elemento\n",
    "#             if aux[i_m][j_m] > 3:\n",
    "#                 print(aux)\n",
    "#                 return False\n",
    "#             j_m+=1\n",
    "#         i_m-=1\n",
    "#     aux2.mosaicum=aux\n",
    "#     return aux2\n",
    "# j=0\n",
    "# while j < len(mo.mosaicum[0]):\n",
    "#     plot = plota_tessera(mo, tesse, -1, j=j)\n",
    "#     if (plot):\n",
    "#         print(111111)\n",
    "#     else:\n",
    "#         j+=1\n",
    "\n",
    "\n"
   ]
  },
  {
   "cell_type": "code",
   "execution_count": null,
   "metadata": {},
   "outputs": [
    {
     "name": "stdout",
     "output_type": "stream",
     "text": [
      "<__main__.Mosaico object at 0x000001AEFBBD9600>\n"
     ]
    }
   ],
   "source": [
    "\n",
    "\n",
    "print(np.array(pestapar(Mosaico(12,12), ct.tessera([[1,1,1],\n",
    "                                                  [2,2,2],\n",
    "                                                  [1,2,3]]),x=9, y=9)))\n",
    "            "
   ]
  },
  {
   "cell_type": "markdown",
   "metadata": {},
   "source": []
  },
  {
   "cell_type": "code",
   "execution_count": null,
   "metadata": {},
   "outputs": [],
   "source": [
    "import timeit\n",
    "\n",
    "def minha_funcao():\n",
    "    total = []\n",
    "    for i in range(1, 10000000):  \n",
    "        if -3 ==i:\n",
    "          pass\n",
    "        total.append(i)\n",
    "\n",
    "    return total\n",
    "\n",
    "# Medindo o tempo de execução com timeit\n",
    "tempo_execucao = timeit.timeit(minha_funcao, number=1)  # 'number=1' executa a função uma vez\n",
    "print(f\"Tempo de execução com timeit: {tempo_execucao:.6f} segundos\")\n"
   ]
  },
  {
   "cell_type": "code",
   "execution_count": null,
   "metadata": {},
   "outputs": [],
   "source": [
    "a funcao ja cria uma linha nova no banco de dados, precisa fazer \n",
    "agora o plot de cada sequencia criando a sequencia,\n",
    "se a sequencia ja existir retorna false e ele cria nova combinatoria.\n",
    " se nao existir ele plota no mosaico e calcula a altura etc. e envia pro banco "
   ]
  },
  {
   "cell_type": "markdown",
   "metadata": {},
   "source": []
  },
  {
   "cell_type": "code",
   "execution_count": null,
   "metadata": {},
   "outputs": [],
   "source": []
  }
 ],
 "metadata": {
  "kernelspec": {
   "display_name": "venv_tessera",
   "language": "python",
   "name": "python3"
  },
  "language_info": {
   "codemirror_mode": {
    "name": "ipython",
    "version": 3
   },
   "file_extension": ".py",
   "mimetype": "text/x-python",
   "name": "python",
   "nbconvert_exporter": "python",
   "pygments_lexer": "ipython3",
   "version": "3.10.14"
  }
 },
 "nbformat": 4,
 "nbformat_minor": 2
}
